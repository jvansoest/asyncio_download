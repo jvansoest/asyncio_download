{
 "cells": [
  {
   "cell_type": "code",
   "execution_count": 1,
   "metadata": {
    "collapsed": true
   },
   "outputs": [],
   "source": [
    "import asyncio"
   ]
  },
  {
   "cell_type": "code",
   "execution_count": 2,
   "metadata": {
    "collapsed": true
   },
   "outputs": [],
   "source": [
    "async def slower():\n",
    "    print(\"Starting slower(), should finish second\")\n",
    "    await asyncio.sleep(3)\n",
    "    print(\"Finished slower()\")\n",
    "    return \"That was slower\""
   ]
  },
  {
   "cell_type": "code",
   "execution_count": 3,
   "metadata": {
    "collapsed": true
   },
   "outputs": [],
   "source": [
    "async def faster():\n",
    "    print(\"Starting faster(), should finish first\")\n",
    "    await asyncio.sleep(2)\n",
    "    print(\"Finished faster()\")\n",
    "    return \"That was faster\""
   ]
  },
  {
   "cell_type": "code",
   "execution_count": 4,
   "metadata": {
    "collapsed": true
   },
   "outputs": [],
   "source": [
    "async def both():\n",
    "    results = []\n",
    "    for coro in asyncio.as_completed([slower(), faster()]):\n",
    "        results.append(await coro)\n",
    "    return results"
   ]
  },
  {
   "cell_type": "code",
   "execution_count": 5,
   "metadata": {
    "collapsed": false
   },
   "outputs": [
    {
     "name": "stdout",
     "output_type": "stream",
     "text": [
      "Starting slower(), should finish second\n",
      "Finished slower()\n",
      "Starting faster(), should finish first\n",
      "Finished faster()\n",
      "That was slower\n",
      "That was faster\n"
     ]
    }
   ],
   "source": [
    "loop = asyncio.new_event_loop()\n",
    "asyncio.set_event_loop(loop)\n",
    "foo = loop.run_until_complete(slower())\n",
    "bar = loop.run_until_complete(faster())\n",
    "print(foo)\n",
    "print(bar)\n",
    "loop.close()"
   ]
  },
  {
   "cell_type": "code",
   "execution_count": 6,
   "metadata": {
    "collapsed": false
   },
   "outputs": [
    {
     "name": "stdout",
     "output_type": "stream",
     "text": [
      "Starting slower(), should finish second\n",
      "Starting faster(), should finish first\n",
      "Finished faster()\n",
      "Finished slower()\n",
      "['That was slower', 'That was faster']\n"
     ]
    }
   ],
   "source": [
    "loop = asyncio.new_event_loop()\n",
    "asyncio.set_event_loop(loop)\n",
    "foo = loop.run_until_complete(asyncio.gather(*[slower(), faster()]))\n",
    "loop.close()\n",
    "print(foo)"
   ]
  },
  {
   "cell_type": "code",
   "execution_count": 7,
   "metadata": {
    "collapsed": false
   },
   "outputs": [
    {
     "name": "stdout",
     "output_type": "stream",
     "text": [
      "Starting slower(), should finish second\n",
      "Starting faster(), should finish first\n",
      "Finished faster()\n",
      "Finished slower()\n",
      "['That was faster', 'That was slower']\n"
     ]
    }
   ],
   "source": [
    "loop = asyncio.new_event_loop()\n",
    "asyncio.set_event_loop(loop)\n",
    "foo = loop.run_until_complete(both())\n",
    "loop.close()\n",
    "print(foo)"
   ]
  },
  {
   "cell_type": "code",
   "execution_count": 14,
   "metadata": {
    "collapsed": false
   },
   "outputs": [
    {
     "name": "stdout",
     "output_type": "stream",
     "text": [
      "Starting slower(), should finish second\n",
      "Starting faster(), should finish first\n",
      "Finished faster()\n",
      "Finished slower()\n",
      "[<Task finished coro=<slower() done, defined at <ipython-input-2-6c644e48bb37>:1> result='That was slower'>, <Task finished coro=<faster() done, defined at <ipython-input-3-d627cc647a4e>:1> result='That was faster'>]\n"
     ]
    }
   ],
   "source": [
    "loop = asyncio.new_event_loop()\n",
    "asyncio.set_event_loop(loop)\n",
    "foo = [asyncio.ensure_future(slower()), asyncio.ensure_future(faster())]\n",
    "loop.run_until_complete(asyncio.wait(foo))\n",
    "loop.close()\n",
    "print(foo)"
   ]
  },
  {
   "cell_type": "code",
   "execution_count": 19,
   "metadata": {
    "collapsed": false
   },
   "outputs": [
    {
     "name": "stdout",
     "output_type": "stream",
     "text": [
      "Starting slower(), should finish second\n",
      "Starting faster(), should finish first\n",
      "Finished faster()\n",
      "Finished slower()\n",
      "<Task finished coro=<slower() done, defined at <ipython-input-2-6c644e48bb37>:1> result='That was slower'>\n",
      "<Task finished coro=<faster() done, defined at <ipython-input-3-d627cc647a4e>:1> result='That was faster'>\n"
     ]
    }
   ],
   "source": [
    "loop = asyncio.new_event_loop()\n",
    "asyncio.set_event_loop(loop)\n",
    "foo = loop.create_task(slower())\n",
    "bar = loop.create_task(faster())\n",
    "loop.run_until_complete(asyncio.wait([foo, bar]))\n",
    "loop.close()\n",
    "print(foo)\n",
    "print(bar)"
   ]
  }
 ],
 "metadata": {
  "kernelspec": {
   "display_name": "Python 3",
   "language": "python",
   "name": "python3"
  },
  "language_info": {
   "codemirror_mode": {
    "name": "ipython",
    "version": 3
   },
   "file_extension": ".py",
   "mimetype": "text/x-python",
   "name": "python",
   "nbconvert_exporter": "python",
   "pygments_lexer": "ipython3",
   "version": "3.5.1"
  }
 },
 "nbformat": 4,
 "nbformat_minor": 0
}
